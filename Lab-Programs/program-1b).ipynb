{
 "cells": [
  {
   "cell_type": "code",
   "execution_count": 1,
   "metadata": {},
   "outputs": [
    {
     "name": "stdout",
     "output_type": "stream",
     "text": [
      "Palindrome\n",
      "1 appears 2 times\n",
      "2 appears 2 times\n",
      "3 appears 1 times\n"
     ]
    }
   ],
   "source": [
    "val = int(input(\"Enter a value : \"))\n",
    "str_val = str(val)\n",
    "if str_val == str_val[::-1]:\n",
    "    print(\"Palindrome\")\n",
    "else:\n",
    "    print(\"Not Palindrome\")\n",
    "\n",
    "for i in range(10):\n",
    "    if str_val.count(str(i)) > 0:\n",
    "        print(str(i), \"appears\", str_val.count(str(i)), \"times\")"
   ]
  }
 ],
 "metadata": {
  "kernelspec": {
   "display_name": "Python 3",
   "language": "python",
   "name": "python3"
  },
  "language_info": {
   "codemirror_mode": {
    "name": "ipython",
    "version": 3
   },
   "file_extension": ".py",
   "mimetype": "text/x-python",
   "name": "python",
   "nbconvert_exporter": "python",
   "pygments_lexer": "ipython3",
   "version": "3.11.2"
  },
  "orig_nbformat": 4
 },
 "nbformat": 4,
 "nbformat_minor": 2
}
