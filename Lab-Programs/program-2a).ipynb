{
 "cells": [
  {
   "cell_type": "code",
   "execution_count": null,
   "metadata": {},
   "outputs": [],
   "source": [
    "def fn(n):\n",
    "    if n == 1:\n",
    "        return 0\n",
    "    elif n == 2:\n",
    "        return 1\n",
    "    else:\n",
    "        return fn(n-1) + fn(n-2)\n",
    "\n",
    "\n",
    "num = int(input(\"Enter a number : \"))\n",
    "if num > 0:\n",
    "    print(\"fn(\", num, \") = \", fn(num), sep=\"\")\n",
    "else:\n",
    "    print(\"Error in input\")"
   ]
  }
 ],
 "metadata": {
  "kernelspec": {
   "display_name": "Python 3",
   "language": "python",
   "name": "python3"
  },
  "language_info": {
   "name": "python",
   "version": "3.11.2"
  },
  "orig_nbformat": 4
 },
 "nbformat": 4,
 "nbformat_minor": 2
}
