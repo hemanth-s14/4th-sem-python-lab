{
 "cells": [
  {
   "cell_type": "code",
   "execution_count": null,
   "metadata": {},
   "outputs": [],
   "source": [
    "import os.path\n",
    "import sys\n",
    "fname = input(\"Enter the filename : \")\n",
    "if not os.path.isfile(fname):\n",
    "    print(\"File\", fname, \"doesn't exists\")\n",
    "    sys.exit(0)\n",
    "infile = open(fname, \"r\")\n",
    "lineList = infile.readlines()\n",
    "for i in range(20):\n",
    "    print(i+1, \":\", lineList[i])\n",
    "\n",
    "word = input(\"Enter a word : \")\n",
    "cnt = 0\n",
    "for line in lineList:\n",
    "    cnt += line.count(word)\n",
    "print(\"The word\", word, \"appears\", cnt, \"times in the file\")\n"
   ]
  }
 ],
 "metadata": {
  "language_info": {
   "name": "python"
  },
  "orig_nbformat": 4
 },
 "nbformat": 4,
 "nbformat_minor": 2
}
